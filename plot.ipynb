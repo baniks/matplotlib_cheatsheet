{
 "cells": [
  {
   "cell_type": "code",
   "execution_count": 1,
   "metadata": {},
   "outputs": [],
   "source": [
    "import numpy as np\n",
    "import matplotlib.pyplot as plt\n",
    "# This import registers the 3D projection, but is otherwise unused.\n",
    "from mpl_toolkits.mplot3d import Axes3D\n",
    "from matplotlib.ticker import MultipleLocator"
   ]
  },
  {
   "attachments": {},
   "cell_type": "markdown",
   "metadata": {},
   "source": [
    "# Remove duplicate legends"
   ]
  },
  {
   "cell_type": "code",
   "execution_count": 11,
   "metadata": {},
   "outputs": [
    {
     "data": {
      "image/png": "[encoded data removed]",
      "text/plain": [
       "<Figure size 432x288 with 1 Axes>"
      ]
     },
     "metadata": {
      "needs_background": "light"
     },
     "output_type": "display_data"
    }
   ],
   "source": [
    "def remove_duplicate_legends(ax):\n",
    "    handles, labels = ax.get_legend_handles_labels()\n",
    "    labels, ids = np.unique(labels, return_index=True)\n",
    "    handles = [handles[i] for i in ids]\n",
    "    ax.legend(handles, labels, loc='best')\n",
    "\n",
    "\n",
    "fig, ax = plt.subplots()\n",
    "arr1 = np.random.randint(50,size=(5,2))\n",
    "for pt in arr1:\n",
    "    ax.scatter(pt[0], pt[1], color='b', label=\"array 1\")\n",
    "\n",
    "arr2 = np.random.randint(70,size=(5,2))\n",
    "for pt in arr2:\n",
    "    ax.scatter(pt[0], pt[1], color='r',label=\"array 2\")\n",
    "\n",
    "remove_duplicate_legends(ax)\n",
    "plt.show()"
   ]
  },
  {
   "cell_type": "code",
   "execution_count": null,
   "metadata": {},
   "outputs": [],
   "source": []
  }
 ],
 "metadata": {
  "kernelspec": {
   "display_name": "Python 3",
   "language": "python",
   "name": "python3"
  },
  "language_info": {
   "codemirror_mode": {
    "name": "ipython",
    "version": 3
   },
   "file_extension": ".py",
   "mimetype": "text/x-python",
   "name": "python",
   "nbconvert_exporter": "python",
   "pygments_lexer": "ipython3",
   "version": "3.6.9"
  },
  "orig_nbformat": 4,
  "vscode": {
   "interpreter": {
    "hash": "31f2aee4e71d21fbe5cf8b01ff0e069b9275f58929596ceb00d14d90e3e16cd6"
   }
  }
 },
 "nbformat": 4,
 "nbformat_minor": 2
}
